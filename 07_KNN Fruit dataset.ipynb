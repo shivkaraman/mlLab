{
 "cells": [
  {
   "cell_type": "code",
   "execution_count": null,
   "id": "52e9d841",
   "metadata": {},
   "outputs": [],
   "source": [
    "import numpy as np\n",
    "from collections import Counter\n",
    "import pandas as pd\n",
    "\n",
    "def minkowski(Q, R, p):\n",
    "    '''\n",
    "    This function calculates the distance between 2 vectors\n",
    "    p=1 will give Manhattan distance\n",
    "    p=2 will give Euclidean distance\n",
    "    '''\n",
    "    distance = (np.sum(np.abs(Q - R) ** p) ** (1 / p))\n",
    "    return distance\n",
    "\n",
    "class KNearestNeighbors:\n",
    "    def __init__(self, k, p_metric):\n",
    "        self.k = k\n",
    "        self.p_metric = p_metric\n",
    "\n",
    "    def fit(self, X_train, Y_train):\n",
    "        self.X_train = X_train\n",
    "        self.Y_train = Y_train\n",
    "\n",
    "    def predict(self, X_Pred):\n",
    "        Y_Pred = [self.classify(x) for x in X_Pred]\n",
    "        return np.array(Y_Pred)\n",
    "\n",
    "    def classify(self, x):\n",
    "        distances = [minkowski(x, x_train, self.p_metric) for x_train in self.X_train]\n",
    "        idx_k = np.argsort(distances)[:self.k]\n",
    "        k_labels = [self.Y_train[i] for i in idx_k]\n",
    "        predicted_class = Counter(k_labels).most_common(1)[0][0]\n",
    "        return predicted_class\n",
    "\n",
    "# Load the Glass dataset\n",
    "glass = pd.read_csv(\"fruit.csv\", skiprows=1)\n",
    "\n",
    "# Remove the last column from X and keep only the last column for y\n",
    "X = glass.iloc[:, :-1].values\n",
    "y = glass.iloc[:, -1].values\n",
    "\n",
    "# Split the data into training and test sets\n",
    "X_train, X_test, y_train, y_test = train_test_split(X, y, test_size=0.2, random_state=42)\n",
    "\n",
    "# Create an instance of KNearestNeighbors with k=3 and p_metric=2\n",
    "knn = KNearestNeighbors(5,2)\n",
    "\n",
    "# Fit the model on the training data\n",
    "knn.fit(X_train, y_train)\n",
    "\n",
    "# Make predictions on the test data\n",
    "y_pred = knn.predict(X_test)\n",
    "\n",
    "# Calculate accuracy\n",
    "accuracy = accuracy_score(y_test, y_pred)\n",
    "print(\"Accuracy for : \", accuracy)"
   ]
  }
 ],
 "metadata": {
  "kernelspec": {
   "display_name": "Python 3 (ipykernel)",
   "language": "python",
   "name": "python3"
  },
  "language_info": {
   "codemirror_mode": {
    "name": "ipython",
    "version": 3
   },
   "file_extension": ".py",
   "mimetype": "text/x-python",
   "name": "python",
   "nbconvert_exporter": "python",
   "pygments_lexer": "ipython3",
   "version": "3.10.7"
  }
 },
 "nbformat": 4,
 "nbformat_minor": 5
}
