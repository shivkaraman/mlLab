{
 "cells": [
  {
   "cell_type": "code",
   "execution_count": 3,
   "id": "faf67cce",
   "metadata": {},
   "outputs": [
    {
     "name": "stdout",
     "output_type": "stream",
     "text": [
      "The optimal value is : 6\n"
     ]
    }
   ],
   "source": [
    "import math\n",
    "\n",
    "def minimax (curDepth, nodeIndex, maxTurn, scores,targetDepth):\n",
    "    if (curDepth == targetDepth):\n",
    "        return scores[nodeIndex]\n",
    "\n",
    "    if (maxTurn):\n",
    "        return max(minimax(curDepth+1, nodeIndex*2, False, scores, targetDepth), minimax(curDepth+1, nodeIndex*2+1,False, scores, targetDepth))\n",
    "    else:\n",
    "        return min(minimax(curDepth+1, nodeIndex*2, True, scores, targetDepth), minimax(curDepth+1, nodeIndex*2+1, True, scores, targetDepth))\n",
    "\n",
    "# Driver code\n",
    "scores = [1, 2, 3, 4, 5, 6, 7, 8]\n",
    "\n",
    "treeDepth = math.log(len(scores), 2)\n",
    "\n",
    "print(\"The optimal value is : \", end = \"\")\n",
    "print(minimax(0, 0, True, scores, treeDepth))"
   ]
  },
  {
   "cell_type": "code",
   "execution_count": null,
   "id": "0a923647",
   "metadata": {},
   "outputs": [],
   "source": []
  }
 ],
 "metadata": {
  "kernelspec": {
   "display_name": "Python 3 (ipykernel)",
   "language": "python",
   "name": "python3"
  },
  "language_info": {
   "codemirror_mode": {
    "name": "ipython",
    "version": 3
   },
   "file_extension": ".py",
   "mimetype": "text/x-python",
   "name": "python",
   "nbconvert_exporter": "python",
   "pygments_lexer": "ipython3",
   "version": "3.10.7"
  }
 },
 "nbformat": 4,
 "nbformat_minor": 5
}
