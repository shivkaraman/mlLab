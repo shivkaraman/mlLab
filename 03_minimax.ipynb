{
 "cells": [
  {
   "cell_type": "code",
   "execution_count": 2,
   "id": "1b7f134b",
   "metadata": {},
   "outputs": [
    {
     "name": "stdout",
     "output_type": "stream",
     "text": [
      "Optimal value: 3\n",
      "Optimal path: [0, 0, 3]\n"
     ]
    }
   ],
   "source": [
    "class Tree:\n",
    "    def __init__(self, value, children=[]):\n",
    "        self.value = value\n",
    "        self.children = children\n",
    "\n",
    "    \n",
    "# Define the game tree using the Tree data structure\n",
    "game_tree = Tree(0, [Tree(0, [Tree(3), Tree(12)]),Tree(0, [Tree(8),Tree(2) ])])\n",
    "\n",
    "# Define the Minimax algorithm function with solution path\n",
    "def minimax(node, depth, maximizing_player):\n",
    "    # Check if the node is a leaf or if the maximum depth has been reached\n",
    "    if depth == 0 or not node.children:\n",
    "        return node.value, [node.value]\n",
    "    # Apply the Minimax algorithm\n",
    "    if maximizing_player:\n",
    "        max_value = float(\"-inf\")\n",
    "        max_path = []\n",
    "        for child_node in node.children:\n",
    "            child_value, child_path = minimax(child_node, depth - 1, False)\n",
    "            if child_value > max_value:\n",
    "                max_value = child_value\n",
    "                max_path = [node.value] + child_path\n",
    "        return max_value, max_path\n",
    "    else:\n",
    "        min_value = float(\"inf\")\n",
    "        min_path = []\n",
    "        for child_node in node.children:\n",
    "            child_value, child_path = minimax(child_node, depth - 1, True)\n",
    "            if child_value < min_value:\n",
    "                min_value = child_value\n",
    "                min_path = [node.value] + child_path\n",
    "        return min_value, min_path\n",
    "\n",
    "# Example usage:\n",
    "optimal_value, optimal_path = minimax(game_tree, 2, True)\n",
    "print(\"Optimal value:\", optimal_value)\n",
    "print(\"Optimal path:\", optimal_path)\n"
   ]
  },
  {
   "cell_type": "code",
   "execution_count": null,
   "id": "faf67cce",
   "metadata": {},
   "outputs": [],
   "source": []
  }
 ],
 "metadata": {
  "kernelspec": {
   "display_name": "Python 3 (ipykernel)",
   "language": "python",
   "name": "python3"
  },
  "language_info": {
   "codemirror_mode": {
    "name": "ipython",
    "version": 3
   },
   "file_extension": ".py",
   "mimetype": "text/x-python",
   "name": "python",
   "nbconvert_exporter": "python",
   "pygments_lexer": "ipython3",
   "version": "3.10.7"
  }
 },
 "nbformat": 4,
 "nbformat_minor": 5
}
