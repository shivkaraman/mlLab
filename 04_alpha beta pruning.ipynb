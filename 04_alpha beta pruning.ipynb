{
 "cells": [
  {
   "cell_type": "code",
   "execution_count": 1,
   "id": "1b851bfd",
   "metadata": {},
   "outputs": [
    {
     "name": "stdout",
     "output_type": "stream",
     "text": [
      "Optimal value: 3\n",
      "Optimal path: [0, 0, 3]\n"
     ]
    }
   ],
   "source": [
    "class Tree:\n",
    "    def __init__(self, value, children=[]):\n",
    "        self.value = value\n",
    "        self.children = children\n",
    "\n",
    "\n",
    "# Define the game tree using the Tree data structure\n",
    "game_tree = Tree(0, [Tree(0, [Tree(3), Tree(12)]), Tree(0, [Tree(8), Tree(2)])])\n",
    "\n",
    "\n",
    "def minimax(node, depth, alpha, beta, maximizing_player):\n",
    "    if depth == 0 or not node.children:\n",
    "        return node.value, [node.value]\n",
    "\n",
    "    if maximizing_player:\n",
    "        max_value = float(\"-inf\")\n",
    "        max_path = []\n",
    "        for child_node in node.children:\n",
    "            child_value, child_path = minimax(child_node, depth - 1, alpha, beta, False)\n",
    "            if child_value > max_value:\n",
    "                max_value = child_value\n",
    "                max_path = [node.value] + child_path\n",
    "            alpha = max(alpha, max_value)\n",
    "            if alpha >= beta:\n",
    "                break\n",
    "        return max_value, max_path\n",
    "    else:\n",
    "        min_value = float(\"inf\")\n",
    "        min_path = []\n",
    "        for child_node in node.children:\n",
    "            child_value, child_path = minimax(child_node, depth - 1, alpha, beta, True)\n",
    "            if child_value < min_value:\n",
    "                min_value = child_value\n",
    "                min_path = [node.value] + child_path\n",
    "            beta = min(beta, min_value)\n",
    "            if alpha >= beta:\n",
    "                break\n",
    "        return min_value, min_path\n",
    "\n",
    "\n",
    "# Example usage:\n",
    "optimal_value, optimal_path = minimax(game_tree, 2, float(\"-inf\"), float(\"inf\"), True)\n",
    "print(\"Optimal value:\", optimal_value)\n",
    "print(\"Optimal path:\", optimal_path)\n"
   ]
  },
  {
   "cell_type": "code",
   "execution_count": null,
   "id": "7ffab760",
   "metadata": {},
   "outputs": [],
   "source": []
  }
 ],
 "metadata": {
  "kernelspec": {
   "display_name": "Python 3 (ipykernel)",
   "language": "python",
   "name": "python3"
  },
  "language_info": {
   "codemirror_mode": {
    "name": "ipython",
    "version": 3
   },
   "file_extension": ".py",
   "mimetype": "text/x-python",
   "name": "python",
   "nbconvert_exporter": "python",
   "pygments_lexer": "ipython3",
   "version": "3.10.7"
  }
 },
 "nbformat": 4,
 "nbformat_minor": 5
}
