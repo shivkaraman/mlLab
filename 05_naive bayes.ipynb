{
 "cells": [
  {
   "cell_type": "code",
   "execution_count": 1,
   "id": "58fbb591",
   "metadata": {},
   "outputs": [
    {
     "name": "stdout",
     "output_type": "stream",
     "text": [
      "Accuracy: 0.792368125701459\n"
     ]
    }
   ],
   "source": [
    "import pandas as pd\n",
    "import numpy as np\n",
    "\n",
    "class NaiveBayesClassifier:\n",
    "    def __init__(self):\n",
    "        self.prior = {}\n",
    "        self.conditional = {}\n",
    "\n",
    "    def fit(self, X, y):\n",
    "        n_samples, n_features = X.shape\n",
    "        self.classes = np.unique(y)\n",
    "\n",
    "        # Compute class priors\n",
    "        for c in self.classes:\n",
    "            self.prior[c] = np.mean(y == c)\n",
    "\n",
    "        # Compute conditional probabilities\n",
    "        for feature in X.columns:\n",
    "            self.conditional[feature] = {}\n",
    "            for c in self.classes:\n",
    "                feature_values = X[feature][y == c]\n",
    "                self.conditional[feature][c] = {\n",
    "                    'mean': np.mean(feature_values),\n",
    "                    'std': np.std(feature_values)\n",
    "                }\n",
    "\n",
    "    def predict(self, X):\n",
    "        y_pred = []\n",
    "        for _, sample in X.iterrows():\n",
    "            probabilities = {}\n",
    "            for c in self.classes:\n",
    "                probabilities[c] = self.prior[c]\n",
    "                for feature in X.columns:\n",
    "                    mean = self.conditional[feature][c]['mean']\n",
    "                    std = self.conditional[feature][c]['std']\n",
    "                    x = sample[feature]\n",
    "                    probabilities[c] *= self._gaussian_pdf(x, mean, std)\n",
    "            y_pred.append(max(probabilities, key=probabilities.get))\n",
    "        return y_pred\n",
    "\n",
    "    @staticmethod\n",
    "    def _gaussian_pdf(x, mean, std):\n",
    "        exponent = np.exp(-((x - mean) ** 2) / (2 * std ** 2))\n",
    "        return (1 / (np.sqrt(2 * np.pi) * std)) * exponent\n",
    "\n",
    "# Load the Titanic dataset\n",
    "df = pd.read_csv('TitanicDataset.csv')\n",
    "\n",
    "# Preprocess the dataset\n",
    "df.drop(['PassengerId', 'Name', 'Ticket', 'Cabin', 'Embarked'], axis=1, inplace=True)\n",
    "df['Age'].fillna(df['Age'].median(), inplace=True)\n",
    "df['Fare'].fillna(df['Fare'].median(), inplace=True)\n",
    "df['Sex'] = df['Sex'].map({'female': 0, 'male': 1})\n",
    "\n",
    "X = df.drop('Survived', axis=1)\n",
    "y = df['Survived']\n",
    "\n",
    "classifier = NaiveBayesClassifier()\n",
    "classifier.fit(X, y)\n",
    "\n",
    "y_pred = classifier.predict(X)\n",
    "\n",
    "accuracy = np.mean(y_pred == y)\n",
    "print(\"Accuracy:\", accuracy)"
   ]
  },
  {
   "cell_type": "code",
   "execution_count": null,
   "id": "946252ca",
   "metadata": {},
   "outputs": [],
   "source": []
  }
 ],
 "metadata": {
  "kernelspec": {
   "display_name": "Python 3 (ipykernel)",
   "language": "python",
   "name": "python3"
  },
  "language_info": {
   "codemirror_mode": {
    "name": "ipython",
    "version": 3
   },
   "file_extension": ".py",
   "mimetype": "text/x-python",
   "name": "python",
   "nbconvert_exporter": "python",
   "pygments_lexer": "ipython3",
   "version": "3.10.7"
  }
 },
 "nbformat": 4,
 "nbformat_minor": 5
}
