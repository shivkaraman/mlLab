{
 "cells": [
  {
   "cell_type": "markdown",
   "id": "8e96564d",
   "metadata": {},
   "source": [
    "# A* algorithm"
   ]
  },
  {
   "cell_type": "code",
   "execution_count": 7,
   "id": "666a2bb0",
   "metadata": {},
   "outputs": [
    {
     "ename": "TypeError",
     "evalue": "'<' not supported between instances of 'Node' and 'Node'",
     "output_type": "error",
     "traceback": [
      "\u001b[1;31m---------------------------------------------------------------------------\u001b[0m",
      "\u001b[1;31mTypeError\u001b[0m                                 Traceback (most recent call last)",
      "Cell \u001b[1;32mIn[7], line 68\u001b[0m\n\u001b[0;32m     58\u001b[0m goal \u001b[38;5;241m=\u001b[39m \u001b[38;5;124m'\u001b[39m\u001b[38;5;124mE\u001b[39m\u001b[38;5;124m'\u001b[39m\n\u001b[0;32m     60\u001b[0m heuristic \u001b[38;5;241m=\u001b[39m {\n\u001b[0;32m     61\u001b[0m     \u001b[38;5;124m'\u001b[39m\u001b[38;5;124mA\u001b[39m\u001b[38;5;124m'\u001b[39m: \u001b[38;5;241m4\u001b[39m,\n\u001b[0;32m     62\u001b[0m     \u001b[38;5;124m'\u001b[39m\u001b[38;5;124mB\u001b[39m\u001b[38;5;124m'\u001b[39m: \u001b[38;5;241m2\u001b[39m,\n\u001b[1;32m   (...)\u001b[0m\n\u001b[0;32m     65\u001b[0m     \u001b[38;5;124m'\u001b[39m\u001b[38;5;124mE\u001b[39m\u001b[38;5;124m'\u001b[39m: \u001b[38;5;241m0\u001b[39m\n\u001b[0;32m     66\u001b[0m }\n\u001b[1;32m---> 68\u001b[0m path \u001b[38;5;241m=\u001b[39m \u001b[43mastar_search\u001b[49m\u001b[43m(\u001b[49m\u001b[43mgraph\u001b[49m\u001b[43m,\u001b[49m\u001b[43m \u001b[49m\u001b[43mstart\u001b[49m\u001b[43m,\u001b[49m\u001b[43m \u001b[49m\u001b[43mgoal\u001b[49m\u001b[43m,\u001b[49m\u001b[43m \u001b[49m\u001b[43mheuristic\u001b[49m\u001b[43m)\u001b[49m\n\u001b[0;32m     70\u001b[0m \u001b[38;5;28;01mif\u001b[39;00m path:\n\u001b[0;32m     71\u001b[0m     \u001b[38;5;28mprint\u001b[39m(\u001b[38;5;124m\"\u001b[39m\u001b[38;5;124mPath found:\u001b[39m\u001b[38;5;124m\"\u001b[39m)\n",
      "Cell \u001b[1;32mIn[7], line 44\u001b[0m, in \u001b[0;36mastar_search\u001b[1;34m(graph, start, goal, heuristic)\u001b[0m\n\u001b[0;32m     41\u001b[0m         neighbor_node\u001b[38;5;241m.\u001b[39mh \u001b[38;5;241m=\u001b[39m heuristic[neighbor]\n\u001b[0;32m     42\u001b[0m         neighbor_node\u001b[38;5;241m.\u001b[39mf \u001b[38;5;241m=\u001b[39m neighbor_node\u001b[38;5;241m.\u001b[39mg \u001b[38;5;241m+\u001b[39m neighbor_node\u001b[38;5;241m.\u001b[39mh\n\u001b[1;32m---> 44\u001b[0m         \u001b[43mheapq\u001b[49m\u001b[38;5;241;43m.\u001b[39;49m\u001b[43mheappush\u001b[49m\u001b[43m(\u001b[49m\u001b[43mopen_list\u001b[49m\u001b[43m,\u001b[49m\u001b[43m \u001b[49m\u001b[43mneighbor_node\u001b[49m\u001b[43m)\u001b[49m\n\u001b[0;32m     46\u001b[0m \u001b[38;5;28;01mreturn\u001b[39;00m []\n",
      "\u001b[1;31mTypeError\u001b[0m: '<' not supported between instances of 'Node' and 'Node'"
     ]
    }
   ],
   "source": [
    "import heapq\n",
    "\n",
    "class Node:\n",
    "    def __init__(self, position, parent=None):\n",
    "        self.position = position\n",
    "        self.parent = parent\n",
    "        self.g = 0  # Cost from start node to current node\n",
    "        self.h = 0  # Heuristic (estimated) cost from current node to goal node\n",
    "        self.f = 0  # Total cost (g + h)\n",
    "\n",
    "    def __lt__(self, other):\n",
    "        return self.f < other.f\n",
    "\n",
    "def astar_search(graph, start, goal, heuristic):\n",
    "    open_list = []\n",
    "    closed_set = set()\n",
    "\n",
    "    start_node = Node(start)\n",
    "    goal_node = Node(goal)\n",
    "    heapq.heappush(open_list, start_node)\n",
    "\n",
    "    while open_list:\n",
    "        current_node = heapq.heappop(open_list)\n",
    "        closed_set.add(current_node.position)\n",
    "\n",
    "        if current_node.position == goal_node.position:\n",
    "            path = []\n",
    "            while current_node:\n",
    "                path.append(current_node.position)\n",
    "                current_node = current_node.parent\n",
    "\n",
    "            return path[::-1]\n",
    "\n",
    "        neighbors = graph[current_node.position]\n",
    "\n",
    "        for neighbor in neighbors:\n",
    "            neighbor_node = Node(neighbor, current_node)\n",
    "            if neighbor in closed_set:\n",
    "                continue\n",
    "\n",
    "            neighbor_node.g = current_node.g + 1\n",
    "            neighbor_node.h = heuristic[neighbor]\n",
    "            neighbor_node.f = neighbor_node.g + neighbor_node.h\n",
    "\n",
    "            heapq.heappush(open_list, neighbor_node)\n",
    "\n",
    "    return []\n",
    "\n",
    "# Example usage:\n",
    "graph = {\n",
    "    'A': ['B', 'C'],\n",
    "    'B': ['A', 'C', 'D'],\n",
    "    'C': ['A', 'B', 'D'],\n",
    "    'D': ['B', 'C', 'E'],\n",
    "    'E': ['D']\n",
    "}\n",
    "\n",
    "start = 'A'\n",
    "goal = 'E'\n",
    "\n",
    "heuristic = {\n",
    "    'A': 4,\n",
    "    'B': 2,\n",
    "    'C': 3,\n",
    "    'D': 1,\n",
    "    'E': 0\n",
    "}\n",
    "\n",
    "path = astar_search(graph, start, goal, heuristic)\n",
    "\n",
    "if path:\n",
    "    print(\"Path found:\")\n",
    "    for node in path:\n",
    "        print(node)\n",
    "else:\n",
    "    print(\"No path found.\")\n"
   ]
  },
  {
   "cell_type": "code",
   "execution_count": null,
   "id": "8c76732e",
   "metadata": {},
   "outputs": [],
   "source": []
  }
 ],
 "metadata": {
  "kernelspec": {
   "display_name": "Python 3 (ipykernel)",
   "language": "python",
   "name": "python3"
  },
  "language_info": {
   "codemirror_mode": {
    "name": "ipython",
    "version": 3
   },
   "file_extension": ".py",
   "mimetype": "text/x-python",
   "name": "python",
   "nbconvert_exporter": "python",
   "pygments_lexer": "ipython3",
   "version": "3.10.7"
  }
 },
 "nbformat": 4,
 "nbformat_minor": 5
}
