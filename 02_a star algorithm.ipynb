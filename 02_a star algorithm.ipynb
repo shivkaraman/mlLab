{
 "cells": [
  {
   "cell_type": "markdown",
   "id": "8e96564d",
   "metadata": {},
   "source": [
    "# A* algorithm"
   ]
  },
  {
   "cell_type": "code",
   "execution_count": 9,
   "id": "666a2bb0",
   "metadata": {},
   "outputs": [
    {
     "name": "stdout",
     "output_type": "stream",
     "text": [
      "Path found:\n",
      "A\n",
      "B\n",
      "D\n",
      "E\n"
     ]
    }
   ],
   "source": [
    "import heapq\n",
    "\n",
    "class Node:\n",
    "    def __init__(self, position, parent=None):\n",
    "        self.position = position\n",
    "        self.parent = parent\n",
    "        self.g = 0  # Cost from start node to current node\n",
    "        self.h = 0  # Heuristic (estimated) cost from current node to goal node\n",
    "        self.f = 0  # Total cost (g + h)\n",
    "\n",
    "    def __lt__(self, other):\n",
    "        return self.f < other.f\n",
    "\n",
    "def astar_search(graph, start, goal, heuristic):\n",
    "    open_list = []\n",
    "    closed_set = set()\n",
    "\n",
    "    start_node = Node(start)\n",
    "    goal_node = Node(goal)\n",
    "    heapq.heappush(open_list, start_node)\n",
    "\n",
    "    while open_list:\n",
    "        current_node = heapq.heappop(open_list)\n",
    "        closed_set.add(current_node.position)\n",
    "\n",
    "        if current_node.position == goal_node.position:\n",
    "            path = []\n",
    "            while current_node:\n",
    "                path.append(current_node.position)\n",
    "                current_node = current_node.parent\n",
    "\n",
    "            return path[::-1]\n",
    "\n",
    "        neighbors = graph[current_node.position]\n",
    "\n",
    "        for neighbor in neighbors:\n",
    "            neighbor_node = Node(neighbor, current_node)\n",
    "            if neighbor in closed_set:\n",
    "                continue\n",
    "\n",
    "            neighbor_node.g = current_node.g + 1\n",
    "            neighbor_node.h = heuristic[neighbor]\n",
    "            neighbor_node.f = neighbor_node.g + neighbor_node.h\n",
    "\n",
    "            heapq.heappush(open_list, neighbor_node)\n",
    "\n",
    "    return []\n",
    "\n",
    "# Example usage:\n",
    "graph = {\n",
    "    'A': ['B', 'C'],\n",
    "    'B': ['A', 'C', 'D'],\n",
    "    'C': ['A', 'B', 'D'],\n",
    "    'D': ['B', 'C', 'E'],\n",
    "    'E': ['D']\n",
    "}\n",
    "\n",
    "start = 'A'\n",
    "goal = 'E'\n",
    "\n",
    "heuristic = {\n",
    "    'A': 4,\n",
    "    'B': 2,\n",
    "    'C': 3,\n",
    "    'D': 1,\n",
    "    'E': 0\n",
    "}\n",
    "\n",
    "path = astar_search(graph, start, goal, heuristic)\n",
    "\n",
    "if path:\n",
    "    print(\"Path found:\")\n",
    "    for node in path:\n",
    "        print(node)\n",
    "else:\n",
    "    print(\"No path found.\")\n"
   ]
  },
  {
   "cell_type": "code",
   "execution_count": null,
   "id": "8c76732e",
   "metadata": {},
   "outputs": [],
   "source": []
  }
 ],
 "metadata": {
  "kernelspec": {
   "display_name": "Python 3 (ipykernel)",
   "language": "python",
   "name": "python3"
  },
  "language_info": {
   "codemirror_mode": {
    "name": "ipython",
    "version": 3
   },
   "file_extension": ".py",
   "mimetype": "text/x-python",
   "name": "python",
   "nbconvert_exporter": "python",
   "pygments_lexer": "ipython3",
   "version": "3.10.7"
  }
 },
 "nbformat": 4,
 "nbformat_minor": 5
}
