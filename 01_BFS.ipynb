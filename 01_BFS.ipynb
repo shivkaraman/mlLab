{
 "cells": [
  {
   "cell_type": "code",
   "execution_count": 3,
   "id": "c16f01df",
   "metadata": {},
   "outputs": [
    {
     "name": "stdout",
     "output_type": "stream",
     "text": [
      "Visiting node: A\n",
      "Visiting node: C\n",
      "Goal reached!\n"
     ]
    }
   ],
   "source": [
    "from queue import PriorityQueue\n",
    "\n",
    "def best_first_search(graph, start, goal, heuristic):\n",
    "    visited = set()\n",
    "    pq = PriorityQueue()\n",
    "    pq.put((heuristic[start], start))\n",
    "    \n",
    "    while not pq.empty():\n",
    "        _, node = pq.get()\n",
    "        \n",
    "        if node == goal:\n",
    "            print(\"Goal reached!\")\n",
    "            return\n",
    "        \n",
    "        if node not in visited:\n",
    "            print(\"Visiting node:\", node)\n",
    "            visited.add(node)\n",
    "            \n",
    "            for neighbor, _ in graph[node]:\n",
    "                if neighbor not in visited:\n",
    "                    pq.put((heuristic[neighbor], neighbor))\n",
    "    \n",
    "    print(\"Goal not found!\")\n",
    "\n",
    "# Example graph representation using adjacency list\n",
    "graph = {\n",
    "    'A': [('B', 4), ('C', 2)],\n",
    "    'B': [('A', 4), ('D', 5)],\n",
    "    'C': [('A', 2), ('E', 3)],\n",
    "    'D': [('B', 5), ('E', 1)],\n",
    "    'E': [('C', 3), ('D', 1)]\n",
    "}\n",
    "\n",
    "start_node = 'A'\n",
    "goal_node = 'E'\n",
    "\n",
    "#Heuristic values from curr node -> goal node\n",
    "heuristic_values = {\n",
    "    'A': 5,\n",
    "    'B': 3,\n",
    "    'C': 2,\n",
    "    'D': 4,\n",
    "    'E': 0\n",
    "}\n",
    "\n",
    "best_first_search(graph, start_node, goal_node, heuristic_values)\n"
   ]
  },
  {
   "cell_type": "code",
   "execution_count": null,
   "id": "4da7290d",
   "metadata": {},
   "outputs": [],
   "source": []
  }
 ],
 "metadata": {
  "kernelspec": {
   "display_name": "Python 3 (ipykernel)",
   "language": "python",
   "name": "python3"
  },
  "language_info": {
   "codemirror_mode": {
    "name": "ipython",
    "version": 3
   },
   "file_extension": ".py",
   "mimetype": "text/x-python",
   "name": "python",
   "nbconvert_exporter": "python",
   "pygments_lexer": "ipython3",
   "version": "3.10.7"
  }
 },
 "nbformat": 4,
 "nbformat_minor": 5
}
